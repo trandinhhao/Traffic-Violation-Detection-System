{
 "cells": [
  {
   "cell_type": "code",
   "execution_count": 20,
   "metadata": {},
   "outputs": [],
   "source": [
    "import os\n",
    "with open(\"D:/datacrawler/data/data/label/treemwar.txt\", \"r\") as f_true:\n",
    "    ftrue_lines = f_true.readlines()\n",
    "with open(\"predicted_label/treemwar.txt\") as f_pred:\n",
    "    fred_lines = f_pred.readlines()\n",
    "total_percent = 0\n",
    "final_percent = 0\n",
    "for i in range (len(ftrue_lines)):\n",
    "    true_list = ftrue_lines[i].split(\"Classes: \")[1].strip().split(\", \")\n",
    "    predict_list = fred_lines[i].split(\"Classes: \")[1].strip().split(\", \")\n",
    "\n",
    "    count = 0\n",
    "    for i in predict_list:\n",
    "        if i in true_list:\n",
    "            count += 1\n",
    "    total_percent += count/len(true_list)\n",
    "final_percent = total_percent/len(ftrue_lines)"
   ]
  },
  {
   "cell_type": "code",
   "execution_count": 21,
   "metadata": {},
   "outputs": [
    {
     "name": "stdout",
     "output_type": "stream",
     "text": [
      "0.8877551020408162\n"
     ]
    }
   ],
   "source": [
    "print(final_percent)"
   ]
  },
  {
   "cell_type": "code",
   "execution_count": 23,
   "metadata": {},
   "outputs": [
    {
     "name": "stdout",
     "output_type": "stream",
     "text": [
      "Accuracy: 0.9212514471330022\n"
     ]
    }
   ],
   "source": [
    "chayrung = 0.9493670886075949\n",
    "war = 0.9490740740740741\n",
    "chaynha = 0.8988095238095238\n",
    "treemwar = 0.8877551020408162\n",
    "acc_list = [chayrung, chaynha, war, treemwar]\n",
    "print(\"Accuracy: \"+str(sum(acc_list)/len(acc_list)))"
   ]
  },
  {
   "cell_type": "code",
   "execution_count": null,
   "metadata": {},
   "outputs": [],
   "source": []
  }
 ],
 "metadata": {
  "interpreter": {
   "hash": "a4868653bb6f8972e87e4c446ab8a445a15b25dedb8594cc74c480f8152ea86a"
  },
  "kernelspec": {
   "display_name": "Python 3.8.10 64-bit",
   "language": "python",
   "name": "python3"
  },
  "language_info": {
   "codemirror_mode": {
    "name": "ipython",
    "version": 3
   },
   "file_extension": ".py",
   "mimetype": "text/x-python",
   "name": "python",
   "nbconvert_exporter": "python",
   "pygments_lexer": "ipython3",
   "version": "3.8.10"
  },
  "orig_nbformat": 4
 },
 "nbformat": 4,
 "nbformat_minor": 2
}
